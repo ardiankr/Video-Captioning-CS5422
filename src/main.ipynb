{
 "cells": [
  {
   "cell_type": "code",
   "execution_count": 1,
   "metadata": {
    "colab": {
     "base_uri": "https://localhost:8080/"
    },
    "executionInfo": {
     "elapsed": 5245,
     "status": "ok",
     "timestamp": 1618104591919,
     "user": {
      "displayName": "Ardian Kristanto",
      "photoUrl": "https://lh3.googleusercontent.com/a-/AOh14GgsGl08J10krrq2vOUZpSlbORrzxMx9gEZQoRgKAQE=s64",
      "userId": "01770967302925254403"
     },
     "user_tz": -480
    },
    "id": "J-wlPvX8QQNN",
    "outputId": "4dd5e753-a4e8-405c-ed48-6a5bfd4b9d48"
   },
   "outputs": [
    {
     "name": "stdout",
     "output_type": "stream",
     "text": [
      "Collecting efficientnet_pytorch\n",
      "  Downloading https://files.pythonhosted.org/packages/4e/83/f9c5f44060f996279e474185ebcbd8dbd91179593bffb9abe3afa55d085b/efficientnet_pytorch-0.7.0.tar.gz\n",
      "Requirement already satisfied: torch in /usr/local/lib/python3.7/dist-packages (from efficientnet_pytorch) (1.8.1+cu101)\n",
      "Requirement already satisfied: numpy in /usr/local/lib/python3.7/dist-packages (from torch->efficientnet_pytorch) (1.19.5)\n",
      "Requirement already satisfied: typing-extensions in /usr/local/lib/python3.7/dist-packages (from torch->efficientnet_pytorch) (3.7.4.3)\n",
      "Building wheels for collected packages: efficientnet-pytorch\n",
      "  Building wheel for efficientnet-pytorch (setup.py) ... \u001b[?25l\u001b[?25hdone\n",
      "  Created wheel for efficientnet-pytorch: filename=efficientnet_pytorch-0.7.0-cp37-none-any.whl size=16031 sha256=22bd9436cce64d5af3b24b1ea8e1b9e33417e370e282341917a3c9df5e837672\n",
      "  Stored in directory: /root/.cache/pip/wheels/e9/c6/e1/7a808b26406239712cfce4b5ceeb67d9513ae32aa4b31445c6\n",
      "Successfully built efficientnet-pytorch\n",
      "Installing collected packages: efficientnet-pytorch\n",
      "Successfully installed efficientnet-pytorch-0.7.0\n"
     ]
    }
   ],
   "source": [
    "!pip install efficientnet_pytorch"
   ]
  },
  {
   "cell_type": "code",
   "execution_count": 2,
   "metadata": {
    "executionInfo": {
     "elapsed": 9696,
     "status": "ok",
     "timestamp": 1618104596380,
     "user": {
      "displayName": "Ardian Kristanto",
      "photoUrl": "https://lh3.googleusercontent.com/a-/AOh14GgsGl08J10krrq2vOUZpSlbORrzxMx9gEZQoRgKAQE=s64",
      "userId": "01770967302925254403"
     },
     "user_tz": -480
    },
    "id": "Z4Lf7BKMwsNg"
   },
   "outputs": [],
   "source": [
    "import os\n",
    "import numpy as np\n",
    "import time\n",
    "from tqdm import tqdm\n",
    "import matplotlib.pyplot as plt\n",
    "plt.style.use(\"ggplot\")\n",
    "import matplotlib.image as mpimg\n",
    "import pandas as pd\n",
    "from PIL import Image, ImageFile\n",
    "import random\n",
    "import json\n",
    "import math\n",
    "import sys\n",
    "import re\n",
    "\n",
    "import torch\n",
    "import torch.nn as nn\n",
    "import torch.nn.functional as F\n",
    "import torch.optim as optim\n",
    "import torch.utils.data as data\n",
    "from torch.utils.data import Dataset, TensorDataset, DataLoader, SubsetRandomSampler, Subset\n",
    "from torch.optim import lr_scheduler\n",
    "import torchvision\n",
    "from torchvision import datasets, models, transforms\n",
    "from efficientnet_pytorch import EfficientNet"
   ]
  },
  {
   "cell_type": "markdown",
   "metadata": {
    "id": "O-QLZ45nOytw"
   },
   "source": [
    "## Parameters"
   ]
  },
  {
   "cell_type": "code",
   "execution_count": 3,
   "metadata": {
    "colab": {
     "base_uri": "https://localhost:8080/"
    },
    "executionInfo": {
     "elapsed": 44579,
     "status": "ok",
     "timestamp": 1618104631267,
     "user": {
      "displayName": "Ardian Kristanto",
      "photoUrl": "https://lh3.googleusercontent.com/a-/AOh14GgsGl08J10krrq2vOUZpSlbORrzxMx9gEZQoRgKAQE=s64",
      "userId": "01770967302925254403"
     },
     "user_tz": -480
    },
    "id": "aWCYIHy5p8c2",
    "outputId": "ca543ac3-5268-455b-9a19-559651d56e40"
   },
   "outputs": [
    {
     "name": "stdout",
     "output_type": "stream",
     "text": [
      "Mounted at /content/drive\n"
     ]
    }
   ],
   "source": [
    "USE_COLAB = True\n",
    "\n",
    "if USE_COLAB:\n",
    "    from google.colab import drive \n",
    "    drive.mount('/content/drive')\n",
    "    HOMEDIR = '/content/drive/MyDrive/Study/MSBA/CS5242 Neural Networks and Deep Learning/Group Project'\n",
    "else:\n",
    "    HOMEDIR = 'D:\\Google Drive\\Study\\MSBA\\CS5242 Neural Networks and Deep Learning\\Group Project'\n",
    "    \n",
    "os.chdir(HOMEDIR)\n",
    "\n",
    "\n",
    "# File paths\n",
    "TRAINDIR = os.path.join(HOMEDIR, 'train/train')\n",
    "TESTDIR = os.path.join(HOMEDIR, 'test/test')\n",
    "TRAIN_ANNOTATION = 'training_annotation.json'\n",
    "OBJECTS_DICT = 'object1_object2.json'\n",
    "RELATIONSHIP_DICT = 'relationship.json'\n",
    "TRAIN_LOADER_ANNOTATION_FILENAME = 'train_annotation.txt'\n",
    "TEST_LOADER_ANNOTATION_FILENAME = 'test_annotation.txt'\n",
    "OUTPUT_FILENAME = 'output.csv'\n",
    "CLASSIFIER_FILE = 'classifier_3.pkl'\n",
    "ENCODER_FILE = 'encoder.pkl'\n",
    "DECODER_FILE = 'decoder.pkl'\n",
    "\n",
    "# Dataset parameters\n",
    "END_FRAME = 30 # last frame number for all videos in the dataset\n",
    "NUM_FRAMES = 8 # how many frames to take in each video\n",
    "\n",
    "# Object classifier parameters\n",
    "LOAD_CLASSIFIER = True # load saved model parameter?\n",
    "TRAIN_CLASSIFIER = False\n",
    "CLASSIFIER_EPOCHS = 15 # only used for training\n",
    "EFFICIENTNET_VERSION = 'b5' # b0, b1, etc... depending on how much gpu ram is at your disposal\n",
    "CLASSIFIER_WEIGHT_DECAY = 0.001\n",
    "CLASSIFIER_USE_BEST = True # after training is complete, will load the weight when the validation score was best\n",
    "\n",
    "# Encoder-decoder parameters\n",
    "LOAD_RNN = False # load saved model parameter?\n",
    "TRAIN_RNN = True\n",
    "RNN_EPOCHS = 15 # only used for training\n",
    "USE_GRU = True # otherwise LSTM\n",
    "RNN_LAYERS = 1\n",
    "RNN_BIDIRECTIONAL = False # we don't want to make the video symmetrical?\n",
    "RNN_HIDDEN_SIZE = 256\n",
    "EMBED_SIZE = 768 # dimensionality of image embeddings\n",
    "RNN_WEIGHT_DECAY = 0.001\n",
    "RNN_USE_BEST = True # after training is complete, will load the weight when the validation score was best\n",
    "\n",
    "# Common parameters\n",
    "BATCH_SIZE = 10\n",
    "VALIDATION_SEED = 2021\n",
    "VALIDATION_SPLIT = 0.05 # use small validation set as our training set is not big\n",
    "RANDOM_SHIFT = True"
   ]
  },
  {
   "cell_type": "code",
   "execution_count": 4,
   "metadata": {
    "executionInfo": {
     "elapsed": 46020,
     "status": "ok",
     "timestamp": 1618104632713,
     "user": {
      "displayName": "Ardian Kristanto",
      "photoUrl": "https://lh3.googleusercontent.com/a-/AOh14GgsGl08J10krrq2vOUZpSlbORrzxMx9gEZQoRgKAQE=s64",
      "userId": "01770967302925254403"
     },
     "user_tz": -480
    },
    "id": "wfb3P_UQz96a"
   },
   "outputs": [],
   "source": [
    "from video_dataset import VideoFrameDataset, ImglistToTensor"
   ]
  },
  {
   "cell_type": "code",
   "execution_count": 5,
   "metadata": {
    "colab": {
     "base_uri": "https://localhost:8080/"
    },
    "executionInfo": {
     "elapsed": 46017,
     "status": "ok",
     "timestamp": 1618104632713,
     "user": {
      "displayName": "Ardian Kristanto",
      "photoUrl": "https://lh3.googleusercontent.com/a-/AOh14GgsGl08J10krrq2vOUZpSlbORrzxMx9gEZQoRgKAQE=s64",
      "userId": "01770967302925254403"
     },
     "user_tz": -480
    },
    "id": "mmc5BhdHqbVu",
    "outputId": "4e31804e-8faa-4e25-afce-41edc19b4012"
   },
   "outputs": [
    {
     "name": "stdout",
     "output_type": "stream",
     "text": [
      "You have 1 GPUs\n",
      "Running PyTorch on the GPU:  Tesla T4\n"
     ]
    }
   ],
   "source": [
    "if torch.cuda.is_available():\n",
    "    print(\"You have\", torch.cuda.device_count(), \"GPUs\")\n",
    "    device = torch.device(\"cuda:0\") # if you have multiple gpu -> 1,2,...\n",
    "    print(\"Running PyTorch on the GPU: \", torch.cuda.get_device_name(0))\n",
    "else:\n",
    "    device = torch.device(\"cpu\")\n",
    "    print(\"Running PyTorch on the CPU\")"
   ]
  },
  {
   "cell_type": "markdown",
   "metadata": {
    "id": "QlLSVS6DM9v_"
   },
   "source": [
    "## Read dictionaries"
   ]
  },
  {
   "cell_type": "code",
   "execution_count": 6,
   "metadata": {
    "executionInfo": {
     "elapsed": 47155,
     "status": "ok",
     "timestamp": 1618104633856,
     "user": {
      "displayName": "Ardian Kristanto",
      "photoUrl": "https://lh3.googleusercontent.com/a-/AOh14GgsGl08J10krrq2vOUZpSlbORrzxMx9gEZQoRgKAQE=s64",
      "userId": "01770967302925254403"
     },
     "user_tz": -480
    },
    "id": "c-rA8hSQsxFM"
   },
   "outputs": [],
   "source": [
    "with open(os.path.join(HOMEDIR, TRAIN_ANNOTATION)) as reader:\n",
    "    train_annotation = json.loads(reader.read())\n",
    "\n",
    "with open(os.path.join(HOMEDIR, OBJECTS_DICT)) as reader:\n",
    "    objects_dict = json.loads(reader.read())\n",
    "\n",
    "with open(os.path.join(HOMEDIR, RELATIONSHIP_DICT)) as reader:\n",
    "    relationship_dict = json.loads(reader.read())\n",
    "\n",
    "#print(train_annotation)\n",
    "#print(objects_dict)\n",
    "#print(relationship_dict)"
   ]
  },
  {
   "cell_type": "code",
   "execution_count": 7,
   "metadata": {
    "executionInfo": {
     "elapsed": 47152,
     "status": "ok",
     "timestamp": 1618104633857,
     "user": {
      "displayName": "Ardian Kristanto",
      "photoUrl": "https://lh3.googleusercontent.com/a-/AOh14GgsGl08J10krrq2vOUZpSlbORrzxMx9gEZQoRgKAQE=s64",
      "userId": "01770967302925254403"
     },
     "user_tz": -480
    },
    "id": "uLzvmgVrzqxj"
   },
   "outputs": [],
   "source": [
    "# Combine the object & relationship dictionaries\n",
    "combined_dict = {}\n",
    "\n",
    "# Add special start stop special chars\n",
    "combined_dict['START'] = 0\n",
    "combined_dict['END'] = 1\n",
    "\n",
    "i = 2\n",
    "for item in list(objects_dict.keys()) + list(relationship_dict.keys()):\n",
    "    combined_dict[item] = i\n",
    "    i += 1\n",
    "    \n",
    "# List of object/relationship classes in the combined dictionary\n",
    "object_classes = [combined_dict[c] for c in objects_dict.keys()]\n",
    "relationship_classes = [combined_dict[c] for c in relationship_dict.keys()]\n",
    "\n",
    "#print(combined_dict)"
   ]
  },
  {
   "cell_type": "code",
   "execution_count": 8,
   "metadata": {
    "executionInfo": {
     "elapsed": 47149,
     "status": "ok",
     "timestamp": 1618104633857,
     "user": {
      "displayName": "Ardian Kristanto",
      "photoUrl": "https://lh3.googleusercontent.com/a-/AOh14GgsGl08J10krrq2vOUZpSlbORrzxMx9gEZQoRgKAQE=s64",
      "userId": "01770967302925254403"
     },
     "user_tz": -480
    },
    "id": "vsae76d8zqxk"
   },
   "outputs": [],
   "source": [
    "# Then convert train_annotation indexes to the new one in combined_dict\n",
    "inv_objects_dict = {v: k for k, v in objects_dict.items()}\n",
    "inv_relationship_dict = {v: k for k, v in relationship_dict.items()}\n",
    "inv_combined_dict = {v: k for k, v in combined_dict.items()}\n",
    "\n",
    "new_train_annotation = {}\n",
    "for ta in train_annotation.keys():\n",
    "    values = train_annotation[ta]\n",
    "    new_train_annotation[ta] = [combined_dict['START'], \n",
    "                                combined_dict[inv_objects_dict[values[0]]],\n",
    "                                combined_dict[inv_relationship_dict[values[1]]],\n",
    "                                combined_dict[inv_objects_dict[values[2]]],\n",
    "                                combined_dict['END']]\n",
    "    \n",
    "#print(new_train_annotation)"
   ]
  },
  {
   "cell_type": "markdown",
   "metadata": {
    "id": "lgRtR1KpM4EU"
   },
   "source": [
    "## Data loader setup"
   ]
  },
  {
   "cell_type": "code",
   "execution_count": 9,
   "metadata": {
    "colab": {
     "base_uri": "https://localhost:8080/"
    },
    "executionInfo": {
     "elapsed": 51342,
     "status": "ok",
     "timestamp": 1618104638053,
     "user": {
      "displayName": "Ardian Kristanto",
      "photoUrl": "https://lh3.googleusercontent.com/a-/AOh14GgsGl08J10krrq2vOUZpSlbORrzxMx9gEZQoRgKAQE=s64",
      "userId": "01770967302925254403"
     },
     "user_tz": -480
    },
    "id": "5_BvFYsz2J6M",
    "outputId": "39e115ce-5261-46b6-f005-15136426dffe"
   },
   "outputs": [
    {
     "name": "stdout",
     "output_type": "stream",
     "text": [
      "447 videos loaded to annotation file for train\n",
      "119 videos loaded to annotation file for test\n"
     ]
    }
   ],
   "source": [
    "def create_loader_annotation_file(is_train, start_frame, end_frame, max_videos=None):\n",
    "    i = 0\n",
    "    \n",
    "    if is_train:\n",
    "        filename = TRAIN_LOADER_ANNOTATION_FILENAME\n",
    "        source_path = TRAINDIR\n",
    "    else:\n",
    "        filename = TEST_LOADER_ANNOTATION_FILENAME\n",
    "        source_path = TESTDIR\n",
    "    \n",
    "    with open(filename, 'w') as writer:\n",
    "        for dir in sorted([v for v in os.listdir(source_path) if re.match('\\d{6}', v)]):\n",
    "            if is_train:\n",
    "                labels = ' '.join(map(lambda x: str(x), new_train_annotation[dir]))\n",
    "            else:\n",
    "                labels = ''\n",
    "            \n",
    "            writer.write(f'{dir} {start_frame} {end_frame} {labels}\\n')\n",
    "            i += 1\n",
    "            if max_videos and i >= max_videos:\n",
    "                break\n",
    "            \n",
    "    print(f'{i} videos loaded to annotation file for {\"train\" if is_train else \"test\"}')\n",
    "\n",
    "train_length = len([v for v in os.listdir(TRAINDIR) if re.match('\\d{6}', v)])\n",
    "test_length = len([v for v in os.listdir(TESTDIR) if re.match('\\d{6}', v)])\n",
    "    \n",
    "create_loader_annotation_file(True, 1, NUM_FRAMES, train_length)\n",
    "create_loader_annotation_file(False, 1, NUM_FRAMES, test_length)"
   ]
  },
  {
   "cell_type": "code",
   "execution_count": 10,
   "metadata": {
    "executionInfo": {
     "elapsed": 51338,
     "status": "ok",
     "timestamp": 1618104638053,
     "user": {
      "displayName": "Ardian Kristanto",
      "photoUrl": "https://lh3.googleusercontent.com/a-/AOh14GgsGl08J10krrq2vOUZpSlbORrzxMx9gEZQoRgKAQE=s64",
      "userId": "01770967302925254403"
     },
     "user_tz": -480
    },
    "id": "lrHlAEPz5_y7"
   },
   "outputs": [],
   "source": [
    "%%capture\n",
    "\n",
    "# https://keras.io/examples/vision/image_classification_efficientnet_fine_tuning/\n",
    "efficientnet_size_dict = {\n",
    "    'b0':224,\n",
    "    'b1':240,\n",
    "    'b2':260,\n",
    "    'b3':300,\n",
    "    'b4':380,\n",
    "    'b5':456,\n",
    "    'b6':528,\n",
    "    'b7':600\n",
    "}\n",
    "\n",
    "# Adding some image augmentation when training the classifier\n",
    "classifier_preprocess = transforms.Compose([\n",
    "    ImglistToTensor(),\n",
    "    transforms.RandomRotation(15, expand=True),\n",
    "    transforms.RandomHorizontalFlip(p=0.5),\n",
    "    transforms.ColorJitter(brightness=0.1, contrast=0.2, saturation=0, hue=0),\n",
    "    transforms.RandomResizedCrop((int(efficientnet_size_dict[EFFICIENTNET_VERSION] / 1.77777777), efficientnet_size_dict[EFFICIENTNET_VERSION]), scale=(0.8, 1.0), ratio=(1, 1.77777777)),\n",
    "    transforms.CenterCrop(efficientnet_size_dict[EFFICIENTNET_VERSION]), \n",
    "    #transforms.Resize((int(efficientnet_size_dict[EFFICIENTNET_VERSION] / 1.77777777), efficientnet_size_dict[EFFICIENTNET_VERSION])), \n",
    "    transforms.Normalize(mean=[0.485, 0.456, 0.406], std=[0.229, 0.224, 0.225])\n",
    "])\n",
    "\n",
    "# No augmentation for the rnn unless we can do uniformly for all frames\n",
    "rnn_preprocess = transforms.Compose([\n",
    "    ImglistToTensor(),\n",
    "    transforms.Resize((int(efficientnet_size_dict[EFFICIENTNET_VERSION] / 1.77777777), efficientnet_size_dict[EFFICIENTNET_VERSION])), \n",
    "    transforms.CenterCrop(efficientnet_size_dict[EFFICIENTNET_VERSION]), \n",
    "    transforms.Normalize(mean=[0.485, 0.456, 0.406], std=[0.229, 0.224, 0.225])\n",
    "])\n",
    "\n",
    "# Initiate train dataset (classifier)\n",
    "classifier_train_dataset = VideoFrameDataset(\n",
    "    root_path=TRAINDIR,\n",
    "    annotationfile_path=os.path.join(HOMEDIR, TRAIN_LOADER_ANNOTATION_FILENAME),\n",
    "    num_segments=1,\n",
    "    frames_per_segment=NUM_FRAMES,\n",
    "    imagefile_template='{:06d}.jpg',\n",
    "    transform=classifier_preprocess,\n",
    "    random_shift=RANDOM_SHIFT,\n",
    "    test_mode=False\n",
    ")\n",
    "\n",
    "# Initiate train dataset (rnn), the difference is only on the preprocessor\n",
    "rnn_train_dataset = VideoFrameDataset(\n",
    "    root_path=TRAINDIR,\n",
    "    annotationfile_path=os.path.join(HOMEDIR, TRAIN_LOADER_ANNOTATION_FILENAME),\n",
    "    num_segments=1,\n",
    "    frames_per_segment=NUM_FRAMES,\n",
    "    imagefile_template='{:06d}.jpg',\n",
    "    transform=rnn_preprocess,\n",
    "    random_shift=RANDOM_SHIFT,\n",
    "    test_mode=False\n",
    ")\n",
    "\n",
    "# Create data indices for training and validation splits\n",
    "dataset_size = len(rnn_train_dataset)\n",
    "indices = list(range(dataset_size))\n",
    "split = int(np.floor(VALIDATION_SPLIT * dataset_size))\n",
    "random_seed = VALIDATION_SEED\n",
    "np.random.seed(random_seed)\n",
    "np.random.shuffle(indices)\n",
    "train_indices, val_indices = indices[split:], indices[:split]\n",
    "\n",
    "# Initiate test dataset\n",
    "test_dataset = VideoFrameDataset(\n",
    "    root_path=TESTDIR,\n",
    "    annotationfile_path=os.path.join(HOMEDIR, TEST_LOADER_ANNOTATION_FILENAME),\n",
    "    num_segments=1,\n",
    "    frames_per_segment=NUM_FRAMES,\n",
    "    imagefile_template='{:06d}.jpg',\n",
    "    transform=rnn_preprocess,\n",
    "    random_shift=False,\n",
    "    test_mode=True\n",
    ")\n",
    "\n",
    "# Load dataset into the data loader (classifier)\n",
    "classifier_data_loader = {\n",
    "    'train': torch.utils.data.DataLoader(\n",
    "                dataset=Subset(classifier_train_dataset, train_indices),\n",
    "                batch_size=BATCH_SIZE,\n",
    "                num_workers=1,\n",
    "                pin_memory=True,\n",
    "                shuffle=True),\n",
    "    \n",
    "    'valid': torch.utils.data.DataLoader(\n",
    "                dataset=Subset(rnn_train_dataset, val_indices), # no need to random transforms the validation set\n",
    "                batch_size=BATCH_SIZE,\n",
    "                num_workers=1,\n",
    "                pin_memory=True,\n",
    "                shuffle=True),\n",
    "}\n",
    "\n",
    "# Load dataset into the data loader (rnn)\n",
    "data_loader = {\n",
    "    'train': torch.utils.data.DataLoader(\n",
    "                dataset=Subset(rnn_train_dataset, train_indices),\n",
    "                batch_size=BATCH_SIZE,\n",
    "                num_workers=1,\n",
    "                pin_memory=True, # if you load your samples in the Dataset on CPU and would like to push it during training to the GPU, you can speed up the host to device transfer by enabling pin_memory\n",
    "                shuffle=True),\n",
    "    \n",
    "    'valid': torch.utils.data.DataLoader(\n",
    "                dataset=Subset(rnn_train_dataset, val_indices),\n",
    "                batch_size=BATCH_SIZE,\n",
    "                num_workers=1,\n",
    "                pin_memory=True,\n",
    "                shuffle=True),\n",
    "    \n",
    "    'test': torch.utils.data.DataLoader(\n",
    "                dataset=test_dataset,\n",
    "                batch_size=BATCH_SIZE,\n",
    "                num_workers=2,\n",
    "                pin_memory=True,\n",
    "                shuffle=False),\n",
    "}"
   ]
  },
  {
   "cell_type": "code",
   "execution_count": 11,
   "metadata": {
    "colab": {
     "base_uri": "https://localhost:8080/"
    },
    "executionInfo": {
     "elapsed": 20314,
     "status": "ok",
     "timestamp": 1618104684855,
     "user": {
      "displayName": "Ardian Kristanto",
      "photoUrl": "https://lh3.googleusercontent.com/a-/AOh14GgsGl08J10krrq2vOUZpSlbORrzxMx9gEZQoRgKAQE=s64",
      "userId": "01770967302925254403"
     },
     "user_tz": -480
    },
    "id": "3kKuShqGzqxn",
    "outputId": "525c4638-e214-448c-b2f8-3bfd3cc3f860"
   },
   "outputs": [
    {
     "name": "stdout",
     "output_type": "stream",
     "text": [
      "Train dataset: 430\n",
      "Valid dataset: 30\n",
      "Test dataset: 120\n",
      "Batch shape: torch.Size([10, 8, 3, 456, 456])\n",
      "Captions: tensor([[  0,   9,  67,   9,   1],\n",
      "        [  0,  19,  47,  14,   1],\n",
      "        [  0,  36,  72,  36,   1],\n",
      "        [  0,   7,  61,  32,   1],\n",
      "        [  0,  31, 116,  31,   1]])\n"
     ]
    }
   ],
   "source": [
    "print('Train dataset:', len(data_loader['train']) * BATCH_SIZE)\n",
    "print('Valid dataset:', len(data_loader['valid']) * BATCH_SIZE)\n",
    "print('Test dataset:', len(data_loader['test']) * BATCH_SIZE)\n",
    "images, captions = next(iter(data_loader['train']))\n",
    "print('Batch shape:', images.shape)\n",
    "print('Captions:', captions[0:5])"
   ]
  },
  {
   "cell_type": "markdown",
   "metadata": {
    "id": "bFy_SlpVMwN3"
   },
   "source": [
    "## Define model components"
   ]
  },
  {
   "cell_type": "code",
   "execution_count": 12,
   "metadata": {
    "executionInfo": {
     "elapsed": 26,
     "status": "ok",
     "timestamp": 1618104684855,
     "user": {
      "displayName": "Ardian Kristanto",
      "photoUrl": "https://lh3.googleusercontent.com/a-/AOh14GgsGl08J10krrq2vOUZpSlbORrzxMx9gEZQoRgKAQE=s64",
      "userId": "01770967302925254403"
     },
     "user_tz": -480
    },
    "id": "1z-cZsq5OtJL"
   },
   "outputs": [],
   "source": [
    "class FeatureExtractorCNN(nn.Module):\n",
    "    def __init__(self):\n",
    "        super(FeatureExtractorCNN, self).__init__()\n",
    "                \n",
    "        # Load pretrained CNN with gradients frozen\n",
    "        self.cnn = EfficientNet.from_pretrained(f'efficientnet-{EFFICIENTNET_VERSION}')\n",
    "        self.cnn.eval()\n",
    "        self.avgpool = torch.nn.AdaptiveAvgPool2d(1) # consider this as part of efficientnet feature extractor\n",
    "        \n",
    "        # Do a single feature extract on dummy just to get the final features size\n",
    "        with torch.no_grad():\n",
    "            features = self.cnn.extract_features(torch.zeros((1,3,256,256)))\n",
    "            features = self.avgpool(features)\n",
    "        b,f,_,_ = features.shape\n",
    "        features = features.reshape(b,f)\n",
    "        self.features_size = features.size(1)\n",
    "                \n",
    "        \n",
    "    def forward(self, images):\n",
    "        # The cnn cannot handle 5-dimensional data, so reshape it to 4-dimensional first\n",
    "        num_batches, num_frames, num_channels, x, y = images.shape\n",
    "        images = images.view(num_batches * num_frames, num_channels, x, y)\n",
    "\n",
    "        # Exctract features\n",
    "        with torch.no_grad():\n",
    "            features = self.cnn.extract_features(images)\n",
    "            features = self.avgpool(features)\n",
    "        b,f,_,_ = features.shape\n",
    "        features = features.reshape(b,f)\n",
    "                \n",
    "        # Reshape the features to how it supposed to be\n",
    "        features = features.view(num_batches, num_frames, -1)\n",
    "            \n",
    "        return features"
   ]
  },
  {
   "cell_type": "code",
   "execution_count": 13,
   "metadata": {
    "executionInfo": {
     "elapsed": 23,
     "status": "ok",
     "timestamp": 1618104684856,
     "user": {
      "displayName": "Ardian Kristanto",
      "photoUrl": "https://lh3.googleusercontent.com/a-/AOh14GgsGl08J10krrq2vOUZpSlbORrzxMx9gEZQoRgKAQE=s64",
      "userId": "01770967302925254403"
     },
     "user_tz": -480
    },
    "id": "Jrz7dm8zOtJL"
   },
   "outputs": [],
   "source": [
    "class ObjectMultiLabelClassifier(nn.Module):\n",
    "    def __init__(self, features_size, num_classes, frame_strategy='mean'):\n",
    "        super(ObjectMultiLabelClassifier, self).__init__()\n",
    "                \n",
    "        self.fc = nn.Linear(features_size, num_classes)\n",
    "        #self.fc1 = nn.Linear(features_size, 1024)\n",
    "        #self.bn1 = nn.BatchNorm1d(1024, momentum=0.01)\n",
    "        #self.relu = nn.ReLU()\n",
    "        #self.fc2 = nn.Linear(1024, num_classes)\n",
    "        self.sigmoid = nn.Sigmoid()\n",
    "        self.strategy = frame_strategy\n",
    "        \n",
    "    def forward(self, features):\n",
    "        assert features.ndim == 3\n",
    "        batch_size, num_frames, _ = features.shape\n",
    "                \n",
    "        # Classify each frame individually\n",
    "        if self.strategy == 'individual':\n",
    "            features = features.view(batch_size * num_frames, -1)\n",
    "            outputs = self.sigmoid(self.fc(features))\n",
    "            #outputs = self.fc1(features)\n",
    "            #outputs = self.bn1(outputs)\n",
    "            #outputs = self.relu(outputs)\n",
    "            #outputs = self.fc2(outputs)\n",
    "            #outputs = self.sigmoid(outputs)\n",
    "\n",
    "            return outputs.view(batch_size, num_frames, -1)\n",
    "        \n",
    "        # Classify each frame individually and take the mean before passing it to sigmoid\n",
    "        elif self.strategy == 'mean':\n",
    "            features = features.view(batch_size * num_frames, -1)\n",
    "            outputs = self.fc(features)\n",
    "            outputs = torch.mean(outputs.view(batch_size, num_frames, -1), dim=1) # take the average over all frames\n",
    "            outputs = self.sigmoid(outputs)\n",
    "            outputs = torch.Tensor.repeat(outputs, repeats=(1, NUM_FRAMES)).view(batch_size, NUM_FRAMES, -1)\n",
    "            \n",
    "            return outputs\n",
    "        \n",
    "        # Classify only the middle frame\n",
    "        elif self.strategy == 'middle':\n",
    "            outputs = self.fc(features[:, num_frames//2, :])\n",
    "            outputs = self.sigmoid(outputs)\n",
    "            outputs = torch.Tensor.repeat(outputs, repeats=(1, NUM_FRAMES)).view(batch_size, NUM_FRAMES, -1)\n",
    "            \n",
    "            return outputs"
   ]
  },
  {
   "cell_type": "code",
   "execution_count": 14,
   "metadata": {
    "executionInfo": {
     "elapsed": 18,
     "status": "ok",
     "timestamp": 1618104684856,
     "user": {
      "displayName": "Ardian Kristanto",
      "photoUrl": "https://lh3.googleusercontent.com/a-/AOh14GgsGl08J10krrq2vOUZpSlbORrzxMx9gEZQoRgKAQE=s64",
      "userId": "01770967302925254403"
     },
     "user_tz": -480
    },
    "id": "g8kLDRwHvxJD"
   },
   "outputs": [],
   "source": [
    "class Encoder(nn.Module):\n",
    "    def __init__(self, features_size, embed_size=EMBED_SIZE):\n",
    "        super(Encoder, self).__init__()\n",
    "                \n",
    "        self.embed = nn.Linear(features_size, embed_size)\n",
    "                \n",
    "        \n",
    "    def forward(self, features):\n",
    "        return self.embed(features)"
   ]
  },
  {
   "cell_type": "code",
   "execution_count": 15,
   "metadata": {
    "executionInfo": {
     "elapsed": 16,
     "status": "ok",
     "timestamp": 1618104684858,
     "user": {
      "displayName": "Ardian Kristanto",
      "photoUrl": "https://lh3.googleusercontent.com/a-/AOh14GgsGl08J10krrq2vOUZpSlbORrzxMx9gEZQoRgKAQE=s64",
      "userId": "01770967302925254403"
     },
     "user_tz": -480
    },
    "id": "Be2iGopqy5_f"
   },
   "outputs": [],
   "source": [
    "class DecoderRNN(nn.Module):\n",
    "    def __init__(self, use_gru, embed_size, hidden_size, vocab_size, num_layers=1, bidirectional=False):\n",
    "        super().__init__()\n",
    "        \n",
    "        self.vocab_size = vocab_size\n",
    "        self.embed_size = embed_size\n",
    "        \n",
    "        if use_gru:\n",
    "            self.rnn = nn.GRU(input_size = embed_size + vocab_size, \n",
    "                                hidden_size = hidden_size,\n",
    "                                num_layers = num_layers, \n",
    "                                batch_first = True, \n",
    "                                bidirectional = bidirectional)\n",
    "        else:\n",
    "            self.rnn = nn.LSTM(input_size = embed_size + vocab_size, \n",
    "                                hidden_size = hidden_size,\n",
    "                                num_layers = num_layers, \n",
    "                                batch_first = True, \n",
    "                                bidirectional = bidirectional)\n",
    "        \n",
    "        # Number of hidden size is multiplied by 2 if bidirectional\n",
    "        self.linear = nn.Linear((2 if bidirectional else 1) * hidden_size, vocab_size)\n",
    "    \n",
    "    \n",
    "    def forward(self, features, output_len=5):\n",
    "        # Concatenate each frame\n",
    "        embed = features[:,0,:].unsqueeze(1)\n",
    "        for frame in range(1, features.size(1)):\n",
    "            embed = torch.cat((features[:,frame,:].unsqueeze(1), embed), dim=1)\n",
    "        \n",
    "        # Add padding with the length of our output\n",
    "        for i in range(0, output_len):\n",
    "            embed = torch.cat((torch.zeros((features.size(0), self.embed_size + self.vocab_size)).unsqueeze(1).to(device), embed), dim=1)\n",
    "        \n",
    "        lstm_outputs, _ = self.rnn(embed)\n",
    "\n",
    "        out = self.linear(lstm_outputs[:, -1*output_len:,:])\n",
    "        return out"
   ]
  },
  {
   "cell_type": "code",
   "execution_count": 16,
   "metadata": {
    "executionInfo": {
     "elapsed": 13,
     "status": "ok",
     "timestamp": 1618104684858,
     "user": {
      "displayName": "Ardian Kristanto",
      "photoUrl": "https://lh3.googleusercontent.com/a-/AOh14GgsGl08J10krrq2vOUZpSlbORrzxMx9gEZQoRgKAQE=s64",
      "userId": "01770967302925254403"
     },
     "user_tz": -480
    },
    "id": "XRHJ_GHF5ZT6"
   },
   "outputs": [],
   "source": [
    "class F1_Loss(nn.Module):\n",
    "    \"\"\"Custom F1 loss function, based on https://gist.github.com/SuperShinyEyes/dcc68a08ff8b615442e3bc6a9b55a354\"\"\"\n",
    "    def __init__(self, epsilon=1e-7):\n",
    "        super().__init__()\n",
    "        self.epsilon = epsilon\n",
    "        \n",
    "    def forward(self, y_pred, y_true):\n",
    "        assert y_pred.ndim == 2\n",
    "        \n",
    "        tp = (y_true * y_pred).sum().to(torch.float32)\n",
    "        fp = ((1 - y_true) * y_pred).sum().to(torch.float32)\n",
    "        fn = (y_true * (1 - y_pred)).sum().to(torch.float32)\n",
    "        \n",
    "        precision = tp / (tp + fp + self.epsilon)\n",
    "        recall = tp / (tp + fn + self.epsilon)\n",
    "        \n",
    "        f1 = 2* (precision*recall) / (precision + recall + self.epsilon)\n",
    "        f1 = f1.clamp(min=self.epsilon, max=1-self.epsilon)\n",
    "        return 1 - f1 # we want to maximize f1, not minimizing it"
   ]
  },
  {
   "cell_type": "markdown",
   "metadata": {
    "id": "MAE1alrWMk78"
   },
   "source": [
    "## Helper functions for model evaluation"
   ]
  },
  {
   "cell_type": "code",
   "execution_count": 17,
   "metadata": {
    "executionInfo": {
     "elapsed": 1010,
     "status": "ok",
     "timestamp": 1618104685859,
     "user": {
      "displayName": "Ardian Kristanto",
      "photoUrl": "https://lh3.googleusercontent.com/a-/AOh14GgsGl08J10krrq2vOUZpSlbORrzxMx9gEZQoRgKAQE=s64",
      "userId": "01770967302925254403"
     },
     "user_tz": -480
    },
    "id": "bvF-MAzPzqxs"
   },
   "outputs": [],
   "source": [
    "def convert_array_to_words(output):\n",
    "    \"\"\"Convert a single dimensional array from the neural net to words\"\"\"\n",
    "    if output is None:\n",
    "        return ''\n",
    "    \n",
    "    return ' '.join(list(map(lambda x: inv_combined_dict[x], filter(lambda x: x >= 2, output))))\n",
    "\n",
    "\n",
    "def convert_words_to_numbers(words):\n",
    "    \"\"\"Convert words to numbers as defined in the json files\"\"\"\n",
    "    if words is None:\n",
    "        return ''\n",
    "    \n",
    "    splits = words.split(' ')\n",
    "    codes = map(lambda c: str(c), map(lambda w: objects_dict[w] if w in objects_dict else relationship_dict[w], splits))\n",
    "    \n",
    "    return ' '.join(codes)\n",
    "\n",
    "\n",
    "def get_predictions(images):\n",
    "    \"\"\"Predict videos from data loader by forwarding it through our model and return the outputs\"\"\"\n",
    "\n",
    "    feature_extractor.eval()\n",
    "    object_classifier.eval()\n",
    "    encoder.eval()\n",
    "    decoder.eval()\n",
    "\n",
    "    images = images.to(device)        \n",
    "\n",
    "    with torch.no_grad():\n",
    "        features = feature_extractor(images)\n",
    "        objects = object_classifier(features)\n",
    "        embeddings = encoder(features)\n",
    "        objects_and_embeddings = torch.cat((objects, embeddings), dim=2) \n",
    "        outputs = decoder(objects_and_embeddings)\n",
    "    \n",
    "    return outputs.cpu()\n",
    "\n",
    "\n",
    "def get_top5_predictions_from_output_probabilities(outputs, index):\n",
    "    \"\"\"Get top 5 predictions as array\"\"\"\n",
    "    top_n = torch.topk(outputs[index], k=len(combined_dict), dim=1).indices[1:4].numpy()\n",
    "    \n",
    "    # Get top 5 which are not START or END and included in the possible classes (object or relationship)\n",
    "    result = []\n",
    "    for i in range(top_n.shape[0]):\n",
    "        possible_classes = object_classes if i == 0 or i == 2 else relationship_classes\n",
    "        classes = list(filter(lambda j: j >= 2 and j in possible_classes, top_n[i]))[0:5]\n",
    "        result.append(classes)\n",
    "    \n",
    "    return np.array(result)\n",
    "\n",
    "\n",
    "def show_prediction(images, outputs, index):\n",
    "    \"\"\"Visualize a video from data loader and show the prediction sentence as the title\"\"\"\n",
    "    prediction = convert_array_to_words(get_top5_predictions_from_output_probabilities(outputs, index)[:, 0])\n",
    "    \n",
    "    # Plot\n",
    "    fig, axes = plt.subplots(1, NUM_FRAMES, figsize=(10*NUM_FRAMES, 8))\n",
    "    fig.suptitle(prediction, fontsize=50)\n",
    "    \n",
    "    for f in range(NUM_FRAMES):\n",
    "        axes[f].imshow(images[index,f,0].cpu().numpy())\n",
    "        axes[f].axis('off')\n",
    "\n",
    "    fig.show()\n",
    "\n",
    "\n",
    "def get_all_predictions(train_valid_test):\n",
    "    \"\"\"Get all predictions for train/valid/test dataset in the form of DF\"\"\"\n",
    "    if train_valid_test not in data_loader.keys():\n",
    "        raise Exception(f'The available options are: %s' % (','.join(data_loader.keys())))\n",
    "    \n",
    "    results = {}\n",
    "    i = 0\n",
    "    for images, captions in data_loader[train_valid_test]:\n",
    "        outputs = get_predictions(images)\n",
    "        \n",
    "        # Iterate through all video in batch\n",
    "        for j in range(outputs.size(0)):\n",
    "            top5 = get_top5_predictions_from_output_probabilities(outputs, j)\n",
    "            truth_words = convert_array_to_words(captions[j].numpy()).split(' ')\n",
    "            \n",
    "            # Iterate through object1 - relationship - object2\n",
    "            for k in range(top5.shape[0]):\n",
    "                results[(i,k)] = (convert_array_to_words(top5[k]), truth_words[k] if any(truth_words) else None)\n",
    "            i += 1\n",
    "\n",
    "    # Convert into DF\n",
    "    result_items = list(results.items())\n",
    "    results_df = pd.DataFrame({ 'image': map(lambda r: r[0][0], result_items), \n",
    "                                'order': map(lambda r: r[0][1], result_items), \n",
    "                                'prediction_words': map(lambda r: r[1][0], result_items),\n",
    "                                'truth_words': map(lambda r: r[1][1], result_items) })\\\n",
    "                    .sort_values(['image','order'])\n",
    "    results_df['label'] = results_df.prediction_words.apply(lambda x: convert_words_to_numbers(x))\n",
    "    results_df['truth_label'] = results_df.truth_words.apply(lambda x: convert_words_to_numbers(x))\n",
    "    \n",
    "    return results_df\n",
    "\n",
    "\n",
    "def get_all_classifications(train_valid_test):\n",
    "    \"\"\"Get all object classifications for train/valid/test dataset in the form of a dictionary. Currently it doesn't work with test\"\"\"\n",
    "    if train_valid_test not in data_loader.keys():\n",
    "        raise Exception(f'The available options are: %s' % (','.join(data_loader.keys())))\n",
    "    \n",
    "    results = {}\n",
    "    i = 0\n",
    "    for images, captions in classifier_data_loader[train_valid_test]:\n",
    "        outputs = get_classifications(images)\n",
    "        batch_size, num_frames, _ = outputs.shape\n",
    "        outputs = outputs.view(batch_size * num_frames, -1)\n",
    "        outputs_dict = pd.DataFrame((outputs > 0.5).nonzero().cpu().numpy()).groupby(0).agg({1: lambda x: ','.join(map(lambda y: inv_combined_dict[y], set(x)))}).to_dict()[1]\n",
    "        truth_labels = list(map(lambda x: ','.join(map(lambda y: inv_combined_dict[y], set(x))), captions.cpu().numpy()[:, (1,3)]))\n",
    "\n",
    "        # Iterate through all video in batch\n",
    "        for j in range(batch_size):\n",
    "            for k in range(num_frames):\n",
    "                index_in_dict = j*num_frames + k\n",
    "                results[(i, k)] = (outputs_dict[index_in_dict] if index_in_dict in outputs_dict else None, truth_labels[j])\n",
    "            i += 1\n",
    "\n",
    "    return results\n",
    "\n",
    "\n",
    "def get_classifications_score(results_dict):\n",
    "    \"\"\"The input should be the result from get_all_classifications(), return (precision, recall, f1)\"\"\"\n",
    "    tp = 0\n",
    "    fp = 0\n",
    "    fn = 0\n",
    "    for key in results_dict:\n",
    "        predictions = results_dict[key][0].split(',') if results_dict[key][0] else []\n",
    "        truths = results_dict[key][1].split(',')\n",
    "        for item in predictions:\n",
    "            if item in truths:\n",
    "                tp += 1\n",
    "            else:\n",
    "                fp += 1\n",
    "        for item in truths:\n",
    "            if item not in predictions:\n",
    "                fn += 1\n",
    "    \n",
    "    precision = tp / (tp + fp)\n",
    "    recall = tp / (tp + fn)\n",
    "    f1 = 2 * precision * recall / (precision + recall)\n",
    "    return (precision, recall, f1)    \n",
    "\n",
    "\n",
    "def get_objects_labels_from_captions(captions, num_classes):\n",
    "    \"\"\"Convert captions from data loader to only object labels\"\"\"\n",
    "    object_labels = torch.zeros((captions.size(0), len(combined_dict)))\n",
    "    batch_size = captions.size(0)\n",
    "    for i in range(batch_size):\n",
    "        object_labels[i, captions[i,(1,3)]] = 1 # turn value at index object 1 & 2 to 1\n",
    "    \n",
    "    return object_labels\n",
    "\n",
    "\n",
    "def get_classifications(images):\n",
    "    \"\"\"Get output from object classifier\"\"\"\n",
    "    feature_extractor.eval()\n",
    "    object_classifier.eval()\n",
    "\n",
    "    with torch.no_grad():\n",
    "        features = feature_extractor(images.to(device))\n",
    "        outputs = object_classifier(features)\n",
    "    \n",
    "    return outputs\n",
    "    \n",
    "\n",
    "def show_classifications(images, classifications, index):\n",
    "    \"\"\"Visualize object classifier output\"\"\"\n",
    "    topn = torch.topk(classifications[index, 0].cpu(), k=3, dim=0)\n",
    "    fig, ax = plt.subplots(1, 1, figsize=(3,3))\n",
    "    ax.imshow(images[index,0,0].cpu().numpy())\n",
    "    ax.set_title(', '.join([inv_combined_dict[topn.indices.numpy()[i]] for i in range(3) if topn.values.numpy()[i] > 0.5]))\n",
    "    fig.show()\n",
    "\n",
    "\n",
    "def get_score(top5, truth):\n",
    "    \"\"\"Get a single score as a function of top 5 predictions and the truth as defined in the instruction pdf\"\"\"\n",
    "    return sum((np.array(top5.split(' ')) == truth) * [1, 0.5, 0.33, 0.25, 0.2])\n",
    "    \n",
    "\n",
    "def get_map(results_df):\n",
    "    \"\"\"Get Mean Average Precision from results produced by get_all_predictions()\"\"\"\n",
    "    scores = results_df.apply(lambda r: get_score(r.label, r.truth_label), axis=1)\n",
    "    return scores.mean()"
   ]
  },
  {
   "cell_type": "markdown",
   "metadata": {
    "id": "JFDSCknAMgvJ"
   },
   "source": [
    "## Initiate model"
   ]
  },
  {
   "cell_type": "code",
   "execution_count": 25,
   "metadata": {
    "colab": {
     "base_uri": "https://localhost:8080/"
    },
    "executionInfo": {
     "elapsed": 2484,
     "status": "ok",
     "timestamp": 1618108571912,
     "user": {
      "displayName": "Ardian Kristanto",
      "photoUrl": "https://lh3.googleusercontent.com/a-/AOh14GgsGl08J10krrq2vOUZpSlbORrzxMx9gEZQoRgKAQE=s64",
      "userId": "01770967302925254403"
     },
     "user_tz": -480
    },
    "id": "BWCA71EQ0kkL",
    "outputId": "f7f9314e-c0f7-4021-9afe-9863a598641d"
   },
   "outputs": [
    {
     "name": "stdout",
     "output_type": "stream",
     "text": [
      "Loaded pretrained weights for efficientnet-b5\n"
     ]
    }
   ],
   "source": [
    "# Instantiate the different components of the model\n",
    "feature_extractor = FeatureExtractorCNN()\n",
    "object_classifier = ObjectMultiLabelClassifier(feature_extractor.features_size, len(combined_dict))\n",
    "encoder = Encoder(feature_extractor.features_size, EMBED_SIZE)\n",
    "decoder = DecoderRNN(use_gru=USE_GRU, embed_size=EMBED_SIZE, hidden_size=RNN_HIDDEN_SIZE, vocab_size=len(combined_dict), num_layers=RNN_LAYERS, bidirectional=RNN_BIDIRECTIONAL)\n",
    "\n",
    "# Load the trained weights\n",
    "if LOAD_CLASSIFIER:\n",
    "    object_classifier.load_state_dict(torch.load(os.path.join(HOMEDIR, CLASSIFIER_FILE)))\n",
    "\n",
    "if LOAD_RNN:\n",
    "    encoder.load_state_dict(torch.load(os.path.join(HOMEDIR, ENCODER_FILE)))\n",
    "    decoder.load_state_dict(torch.load(os.path.join(HOMEDIR, DECODER_FILE)))\n",
    "\n",
    "# Move models to GPU if CUDA is available\n",
    "feature_extractor.to(device)\n",
    "object_classifier.to(device)\n",
    "encoder.to(device)\n",
    "decoder.to(device)\n",
    "    \n",
    "# Define the loss function\n",
    "object_classifier_criterion = F1_Loss().cuda() if torch.cuda.is_available() else F1_Loss()\n",
    "weight = torch.ones((len(combined_dict)))\n",
    "#weight[0:2] = 0.1 # undermine the weight of class START and END, so the model can focus more on improving other classes losses\n",
    "criterion = nn.CrossEntropyLoss(weight=weight).cuda() if torch.cuda.is_available() else nn.CrossEntropyLoss(weight=weight)\n",
    "\n",
    "# Parameters\n",
    "object_classifier_params = list(object_classifier.fc.parameters())\n",
    "encoder_decoder_params = list(encoder.embed.parameters()) + list(decoder.parameters())\n",
    "\n",
    "# Optimizers\n",
    "object_classifier_optimizer = torch.optim.Adam(params = object_classifier_params, lr=0.001, weight_decay=CLASSIFIER_WEIGHT_DECAY)\n",
    "encoder_decoder_optimizer = torch.optim.Adam(params = encoder_decoder_params, lr=0.001, weight_decay=RNN_WEIGHT_DECAY)"
   ]
  },
  {
   "cell_type": "markdown",
   "metadata": {
    "id": "2RqhlFYIMTsT"
   },
   "source": [
    "## Train object classifier"
   ]
  },
  {
   "cell_type": "code",
   "execution_count": 26,
   "metadata": {
    "executionInfo": {
     "elapsed": 3605,
     "status": "ok",
     "timestamp": 1618108573043,
     "user": {
      "displayName": "Ardian Kristanto",
      "photoUrl": "https://lh3.googleusercontent.com/a-/AOh14GgsGl08J10krrq2vOUZpSlbORrzxMx9gEZQoRgKAQE=s64",
      "userId": "01770967302925254403"
     },
     "user_tz": -480
    },
    "id": "SBXEOlOxOtJN"
   },
   "outputs": [],
   "source": [
    "epoch_f1_dict = {}\n",
    "best_val_f1 = 0\n",
    "\n",
    "if TRAIN_CLASSIFIER:\n",
    "    for epoch in range(1, CLASSIFIER_EPOCHS+1):\n",
    "        \n",
    "        object_classifier.train()\n",
    "        \n",
    "        tp = 0\n",
    "        fp = 0\n",
    "        fn = 0\n",
    "        \n",
    "        for images, captions in tqdm(classifier_data_loader['train'], position=0, leave=True):\n",
    "            \n",
    "            # Move batch of images and captions to GPU if CUDA is available\n",
    "            images = images.to(device)\n",
    "            labels = get_objects_labels_from_captions(captions, len(combined_dict))\n",
    "            labels = labels.to(device)\n",
    "            \n",
    "            # Zero the gradients\n",
    "            object_classifier.zero_grad()\n",
    "            \n",
    "            # Pass the inputs to CNN\n",
    "            features = feature_extractor(images)\n",
    "\n",
    "            # Feed to classifier\n",
    "            outputs = object_classifier(features)\n",
    "\n",
    "            # Reshape outputs to 2 dims and repeat labels by number of frames so we can compute the loss\n",
    "            outputs = outputs.view(-1, len(combined_dict))\n",
    "            labels = torch.Tensor.repeat(labels, repeats=(1, features.size(1))).view(-1, len(combined_dict))\n",
    "\n",
    "            # Calculate the batch loss\n",
    "            loss = object_classifier_criterion(outputs, labels)\n",
    "            \n",
    "            # Backward pass\n",
    "            loss.backward()\n",
    "            \n",
    "            # Update the parameters in the optimizer\n",
    "            object_classifier_optimizer.step()\n",
    "            \n",
    "            predictions = (outputs > 0.5)\n",
    "            tp += sum(sum((predictions == labels) & (predictions == True)))\n",
    "            fp += sum(sum((predictions != labels) & (predictions == True)))\n",
    "            fn += sum(sum((predictions != labels) & (predictions == False)))\n",
    "            \n",
    "\n",
    "        precision = tp / (tp + fp)\n",
    "        recall = tp / (tp + fn)\n",
    "        f1 = float((2 * precision * recall / (precision + recall)).cpu().numpy())\n",
    "\n",
    "        validation_scores = get_classifications_score(get_all_classifications('valid'))\n",
    "\n",
    "        epoch_f1_dict[epoch] = (f1, validation_scores[2])\n",
    "\n",
    "        # Save the weighths only if the validation performance has improved\n",
    "        if validation_scores[2] >= best_val_f1:\n",
    "            best_val_f1 = validation_scores[2]\n",
    "            torch.save(object_classifier.state_dict(), os.path.join(HOMEDIR, CLASSIFIER_FILE))\n",
    "        \n",
    "        print(f'Epoch {epoch}/{CLASSIFIER_EPOCHS}, ' +\n",
    "              f'Loss: {loss.item()}, ' +\n",
    "              f'Train precision: {precision}, ' +\n",
    "              f'Train recall: {recall}, ' +\n",
    "              f'Train F1: {f1}, ' +\n",
    "              f'Val precision: {validation_scores[0]}, ' +\n",
    "              f'Val recall: {validation_scores[1]}, ' +\n",
    "              f'Val F1: {validation_scores[2]}')  "
   ]
  },
  {
   "cell_type": "code",
   "execution_count": 27,
   "metadata": {
    "colab": {
     "base_uri": "https://localhost:8080/",
     "height": 299
    },
    "executionInfo": {
     "elapsed": 3605,
     "status": "ok",
     "timestamp": 1618108573048,
     "user": {
      "displayName": "Ardian Kristanto",
      "photoUrl": "https://lh3.googleusercontent.com/a-/AOh14GgsGl08J10krrq2vOUZpSlbORrzxMx9gEZQoRgKAQE=s64",
      "userId": "01770967302925254403"
     },
     "user_tz": -480
    },
    "id": "af_zE4v_JvSV",
    "outputId": "1feb1ec6-f161-46ed-ba46-b14642961f21"
   },
   "outputs": [
    {
     "data": {
      "text/plain": [
       "<matplotlib.axes._subplots.AxesSubplot at 0x7fead061ea90>"
      ]
     },
     "execution_count": 27,
     "metadata": {
      "tags": []
     },
     "output_type": "execute_result"
    },
    {
     "data": {
      "image/png": "[encoded data removed]",
      "text/plain": [
       "<Figure size 432x288 with 1 Axes>"
      ]
     },
     "metadata": {
      "tags": []
     },
     "output_type": "display_data"
    }
   ],
   "source": [
    "# Plot F1 score with epoch as the x-axis\n",
    "epoch_f1 = list(epoch_f1_dict.items())\n",
    "pd.DataFrame({ 'epoch':map(lambda x: x[0] , epoch_f1) , \n",
    "              'train_f1':map(lambda x: x[1][0] , epoch_f1), \n",
    "              'valid_f1':map(lambda x: x[1][1] , epoch_f1) }) \\\n",
    "    .plot.line(x='epoch')"
   ]
  },
  {
   "cell_type": "code",
   "execution_count": 28,
   "metadata": {
    "executionInfo": {
     "elapsed": 3599,
     "status": "ok",
     "timestamp": 1618108573050,
     "user": {
      "displayName": "Ardian Kristanto",
      "photoUrl": "https://lh3.googleusercontent.com/a-/AOh14GgsGl08J10krrq2vOUZpSlbORrzxMx9gEZQoRgKAQE=s64",
      "userId": "01770967302925254403"
     },
     "user_tz": -480
    },
    "id": "U96B1-JZJoJX"
   },
   "outputs": [],
   "source": [
    "if CLASSIFIER_USE_BEST:\n",
    "    object_classifier.load_state_dict(torch.load(os.path.join(HOMEDIR, CLASSIFIER_FILE)))"
   ]
  },
  {
   "cell_type": "markdown",
   "metadata": {
    "id": "jL6orC6lMYkJ"
   },
   "source": [
    "## Train RNN"
   ]
  },
  {
   "cell_type": "code",
   "execution_count": 29,
   "metadata": {
    "colab": {
     "base_uri": "https://localhost:8080/"
    },
    "executionInfo": {
     "elapsed": 1775529,
     "status": "ok",
     "timestamp": 1618110344985,
     "user": {
      "displayName": "Ardian Kristanto",
      "photoUrl": "https://lh3.googleusercontent.com/a-/AOh14GgsGl08J10krrq2vOUZpSlbORrzxMx9gEZQoRgKAQE=s64",
      "userId": "01770967302925254403"
     },
     "user_tz": -480
    },
    "id": "biKE0C3Azqxt",
    "outputId": "be1aa802-f458-483f-958b-4db488c2835c"
   },
   "outputs": [
    {
     "name": "stderr",
     "output_type": "stream",
     "text": [
      "100%|██████████| 43/43 [01:50<00:00,  2.57s/it]\n",
      "  0%|          | 0/43 [00:00<?, ?it/s]"
     ]
    },
    {
     "name": "stdout",
     "output_type": "stream",
     "text": [
      "Epoch 1/15, Loss: 3.000265121459961, Train MAP: 0.3210666666666664, Validation MAP: 0.4195454545454545\n"
     ]
    },
    {
     "name": "stderr",
     "output_type": "stream",
     "text": [
      "100%|██████████| 43/43 [01:50<00:00,  2.57s/it]\n",
      "  0%|          | 0/43 [00:00<?, ?it/s]"
     ]
    },
    {
     "name": "stdout",
     "output_type": "stream",
     "text": [
      "Epoch 2/15, Loss: 2.4057343006134033, Train MAP: 0.5757019607843145, Validation MAP: 0.5557575757575758\n"
     ]
    },
    {
     "name": "stderr",
     "output_type": "stream",
     "text": [
      "100%|██████████| 43/43 [01:50<00:00,  2.58s/it]\n",
      "  0%|          | 0/43 [00:00<?, ?it/s]"
     ]
    },
    {
     "name": "stdout",
     "output_type": "stream",
     "text": [
      "Epoch 3/15, Loss: 2.208900213241577, Train MAP: 0.6730823529411775, Validation MAP: 0.6063636363636363\n"
     ]
    },
    {
     "name": "stderr",
     "output_type": "stream",
     "text": [
      "100%|██████████| 43/43 [01:50<00:00,  2.56s/it]\n",
      "  0%|          | 0/43 [00:00<?, ?it/s]"
     ]
    },
    {
     "name": "stdout",
     "output_type": "stream",
     "text": [
      "Epoch 4/15, Loss: 1.6990948915481567, Train MAP: 0.7467764705882365, Validation MAP: 0.633030303030303\n"
     ]
    },
    {
     "name": "stderr",
     "output_type": "stream",
     "text": [
      "100%|██████████| 43/43 [01:50<00:00,  2.58s/it]\n",
      "  0%|          | 0/43 [00:00<?, ?it/s]"
     ]
    },
    {
     "name": "stdout",
     "output_type": "stream",
     "text": [
      "Epoch 5/15, Loss: 1.434696078300476, Train MAP: 0.7990117647058833, Validation MAP: 0.6422727272727272\n"
     ]
    },
    {
     "name": "stderr",
     "output_type": "stream",
     "text": [
      "100%|██████████| 43/43 [01:50<00:00,  2.56s/it]\n",
      "  0%|          | 0/43 [00:00<?, ?it/s]"
     ]
    },
    {
     "name": "stdout",
     "output_type": "stream",
     "text": [
      "Epoch 6/15, Loss: 0.8121419548988342, Train MAP: 0.8282980392156871, Validation MAP: 0.6542424242424243\n"
     ]
    },
    {
     "name": "stderr",
     "output_type": "stream",
     "text": [
      "100%|██████████| 43/43 [01:49<00:00,  2.55s/it]\n",
      "  0%|          | 0/43 [00:00<?, ?it/s]"
     ]
    },
    {
     "name": "stdout",
     "output_type": "stream",
     "text": [
      "Epoch 7/15, Loss: 0.7612224817276001, Train MAP: 0.8585333333333341, Validation MAP: 0.646969696969697\n"
     ]
    },
    {
     "name": "stderr",
     "output_type": "stream",
     "text": [
      "100%|██████████| 43/43 [01:49<00:00,  2.54s/it]\n",
      "  0%|          | 0/43 [00:00<?, ?it/s]"
     ]
    },
    {
     "name": "stdout",
     "output_type": "stream",
     "text": [
      "Epoch 8/15, Loss: 0.6618000268936157, Train MAP: 0.8869098039215693, Validation MAP: 0.6683333333333333\n"
     ]
    },
    {
     "name": "stderr",
     "output_type": "stream",
     "text": [
      "100%|██████████| 43/43 [01:49<00:00,  2.55s/it]\n",
      "  0%|          | 0/43 [00:00<?, ?it/s]"
     ]
    },
    {
     "name": "stdout",
     "output_type": "stream",
     "text": [
      "Epoch 9/15, Loss: 0.7457534670829773, Train MAP: 0.906517647058824, Validation MAP: 0.6224242424242424\n"
     ]
    },
    {
     "name": "stderr",
     "output_type": "stream",
     "text": [
      "100%|██████████| 43/43 [01:49<00:00,  2.55s/it]\n",
      "  0%|          | 0/43 [00:00<?, ?it/s]"
     ]
    },
    {
     "name": "stdout",
     "output_type": "stream",
     "text": [
      "Epoch 10/15, Loss: 0.35167133808135986, Train MAP: 0.9309411764705885, Validation MAP: 0.6515151515151515\n"
     ]
    },
    {
     "name": "stderr",
     "output_type": "stream",
     "text": [
      "100%|██████████| 43/43 [01:49<00:00,  2.56s/it]\n",
      "  0%|          | 0/43 [00:00<?, ?it/s]"
     ]
    },
    {
     "name": "stdout",
     "output_type": "stream",
     "text": [
      "Epoch 11/15, Loss: 0.42597347497940063, Train MAP: 0.942156862745098, Validation MAP: 0.6539393939393939\n"
     ]
    },
    {
     "name": "stderr",
     "output_type": "stream",
     "text": [
      "100%|██████████| 43/43 [01:49<00:00,  2.55s/it]\n",
      "  0%|          | 0/43 [00:00<?, ?it/s]"
     ]
    },
    {
     "name": "stdout",
     "output_type": "stream",
     "text": [
      "Epoch 12/15, Loss: 0.2955680787563324, Train MAP: 0.9521647058823529, Validation MAP: 0.6553030303030303\n"
     ]
    },
    {
     "name": "stderr",
     "output_type": "stream",
     "text": [
      "100%|██████████| 43/43 [01:49<00:00,  2.55s/it]\n",
      "  0%|          | 0/43 [00:00<?, ?it/s]"
     ]
    },
    {
     "name": "stdout",
     "output_type": "stream",
     "text": [
      "Epoch 13/15, Loss: 0.3114777207374573, Train MAP: 0.9658509803921566, Validation MAP: 0.6513636363636364\n"
     ]
    },
    {
     "name": "stderr",
     "output_type": "stream",
     "text": [
      "100%|██████████| 43/43 [01:50<00:00,  2.56s/it]\n",
      "  0%|          | 0/43 [00:00<?, ?it/s]"
     ]
    },
    {
     "name": "stdout",
     "output_type": "stream",
     "text": [
      "Epoch 14/15, Loss: 0.2477155327796936, Train MAP: 0.9618352941176471, Validation MAP: 0.6536363636363637\n"
     ]
    },
    {
     "name": "stderr",
     "output_type": "stream",
     "text": [
      "100%|██████████| 43/43 [01:50<00:00,  2.57s/it]\n"
     ]
    },
    {
     "name": "stdout",
     "output_type": "stream",
     "text": [
      "Epoch 15/15, Loss: 0.5077780485153198, Train MAP: 0.9101333333333336, Validation MAP: 0.6387878787878787\n"
     ]
    }
   ],
   "source": [
    "epoch_map_dict = {}\n",
    "best_val_map = 0\n",
    "            \n",
    "if TRAIN_RNN:\n",
    "    for epoch in range(1, RNN_EPOCHS+1):\n",
    "        \n",
    "        # Feature extractor and object classifier are put into evaluation mode\n",
    "        feature_extractor.eval()\n",
    "        object_classifier.eval()\n",
    "        \n",
    "        # Encoder decoder layers are in train mode\n",
    "        encoder.train()\n",
    "        decoder.train()\n",
    "            \n",
    "        prediction_truths = []\n",
    "            \n",
    "        for images, captions in tqdm(data_loader['train'], position=0, leave=True):\n",
    "            \n",
    "            # Move batch of images and captions to GPU if CUDA is available\n",
    "            images = images.to(device)\n",
    "            captions = captions.to(device)\n",
    "\n",
    "            # Zero the gradients\n",
    "            encoder.zero_grad()\n",
    "            decoder.zero_grad()\n",
    "        \n",
    "            # Pass the images to feature extractor and then object classifier layer\n",
    "            with torch.no_grad():\n",
    "                features = feature_extractor(images)\n",
    "                objects = object_classifier(features) # we use the ground truth classifications to train the RNN\n",
    "            \n",
    "            # Get object labels\n",
    "            #objects = get_objects_labels_from_captions(captions, len(combined_dict)).to(device)\n",
    "            #objects = torch.Tensor.repeat(objects, repeats=(1, features.size(1))).view(-1, NUM_FRAMES, len(combined_dict))\n",
    "\n",
    "            # Get image embeddings\n",
    "            embeddings = encoder(features)\n",
    "            \n",
    "            # Combine classified objects with image embeddings\n",
    "            objects_and_embeddings = torch.cat((objects, embeddings), dim=2) \n",
    "            \n",
    "            # Pass objects and embeddings to RNN\n",
    "            outputs = decoder(objects_and_embeddings)\n",
    "\n",
    "            # Calculate the batch loss\n",
    "            loss = criterion(outputs.view(-1, len(combined_dict)), captions.view(-1))\n",
    "\n",
    "            # Backward pass\n",
    "            loss.backward()\n",
    "\n",
    "            # Prevent gradient explosion\n",
    "            #nn.utils.clip_grad_norm_(decoder.parameters(), max_norm = 1)\n",
    "\n",
    "            # Update the parameters in the optimizer\n",
    "            encoder_decoder_optimizer.step()\n",
    "            \n",
    "            # Save outputs and truth labels for map score computation later\n",
    "            for i in range(outputs.size(0)): # 0,1,...,BATCH_SIZE-1\n",
    "                top5 = get_top5_predictions_from_output_probabilities(outputs.cpu(), i)\n",
    "                for j in range(top5.shape[0]): # 0,1,2\n",
    "                    prediction_truths.append((' '.join(map(lambda x: str(x), list(top5[j]))), str(captions[i,j+1].cpu().numpy())))\n",
    "\n",
    "\n",
    "        df_temp = pd.DataFrame({ 'label': map(lambda e: e[0], prediction_truths), 'truth_label': map(lambda e: e[1], prediction_truths) })\n",
    "        \n",
    "        epoch_map_dict[epoch] = (get_map(df_temp), \\\n",
    "                                  get_map(get_all_predictions('valid')))\n",
    "\n",
    "        # Save the weights only if the validation performance has improved\n",
    "        if epoch_map_dict[epoch][1] >= best_val_map:\n",
    "            best_val_map = epoch_map_dict[epoch][1]\n",
    "            torch.save(encoder.state_dict(), os.path.join(HOMEDIR, ENCODER_FILE))\n",
    "            torch.save(decoder.state_dict(), os.path.join(HOMEDIR, DECODER_FILE))\n",
    "        \n",
    "        print(f'Epoch {epoch}/{RNN_EPOCHS}, ' +\n",
    "              f'Loss: {loss.item()}, ' +\n",
    "              f'Train MAP: {epoch_map_dict[epoch][0] if epoch in epoch_map_dict else None}, ' +\n",
    "              f'Validation MAP: {epoch_map_dict[epoch][1] if epoch in epoch_map_dict else None}')"
   ]
  },
  {
   "cell_type": "code",
   "execution_count": 30,
   "metadata": {
    "colab": {
     "base_uri": "https://localhost:8080/",
     "height": 299
    },
    "executionInfo": {
     "elapsed": 1775523,
     "status": "ok",
     "timestamp": 1618110344987,
     "user": {
      "displayName": "Ardian Kristanto",
      "photoUrl": "https://lh3.googleusercontent.com/a-/AOh14GgsGl08J10krrq2vOUZpSlbORrzxMx9gEZQoRgKAQE=s64",
      "userId": "01770967302925254403"
     },
     "user_tz": -480
    },
    "id": "MC0SERnWzqxt",
    "outputId": "d1e606af-0e70-4b42-f74b-e03cc8e9dfdc"
   },
   "outputs": [
    {
     "data": {
      "text/plain": [
       "<matplotlib.axes._subplots.AxesSubplot at 0x7fead6dc8dd0>"
      ]
     },
     "execution_count": 30,
     "metadata": {
      "tags": []
     },
     "output_type": "execute_result"
    },
    {
     "data": {
      "image/png": "[encoded data removed]",
      "text/plain": [
       "<Figure size 432x288 with 1 Axes>"
      ]
     },
     "metadata": {
      "tags": []
     },
     "output_type": "display_data"
    }
   ],
   "source": [
    "# Plot MAP score with epoch as the x-axis\n",
    "epoch_map = list(epoch_map_dict.items())\n",
    "pd.DataFrame({ 'epoch':map(lambda x: x[0] , epoch_map) , \n",
    "              'train_map':map(lambda x: x[1][0] , epoch_map), \n",
    "              'valid_map':map(lambda x: x[1][1] , epoch_map) }) \\\n",
    "    .plot.line(x='epoch')"
   ]
  },
  {
   "cell_type": "code",
   "execution_count": 31,
   "metadata": {
    "executionInfo": {
     "elapsed": 1775519,
     "status": "ok",
     "timestamp": 1618110344988,
     "user": {
      "displayName": "Ardian Kristanto",
      "photoUrl": "https://lh3.googleusercontent.com/a-/AOh14GgsGl08J10krrq2vOUZpSlbORrzxMx9gEZQoRgKAQE=s64",
      "userId": "01770967302925254403"
     },
     "user_tz": -480
    },
    "id": "_v7AB3P90g5A"
   },
   "outputs": [],
   "source": [
    "if RNN_USE_BEST:\n",
    "    encoder.load_state_dict(torch.load(os.path.join(HOMEDIR, ENCODER_FILE)))\n",
    "    decoder.load_state_dict(torch.load(os.path.join(HOMEDIR, DECODER_FILE)))"
   ]
  },
  {
   "cell_type": "markdown",
   "metadata": {
    "id": "-PLyOO2hNLUA"
   },
   "source": [
    "## Validation"
   ]
  },
  {
   "cell_type": "code",
   "execution_count": 32,
   "metadata": {
    "executionInfo": {
     "elapsed": 1782461,
     "status": "ok",
     "timestamp": 1618110351933,
     "user": {
      "displayName": "Ardian Kristanto",
      "photoUrl": "https://lh3.googleusercontent.com/a-/AOh14GgsGl08J10krrq2vOUZpSlbORrzxMx9gEZQoRgKAQE=s64",
      "userId": "01770967302925254403"
     },
     "user_tz": -480
    },
    "id": "C7vrNE7pzqxt"
   },
   "outputs": [],
   "source": [
    "images, _ = next(iter(data_loader['valid']))\n",
    "predictions = get_predictions(images)\n",
    "classifications = get_classifications(images)"
   ]
  },
  {
   "cell_type": "code",
   "execution_count": 33,
   "metadata": {
    "executionInfo": {
     "elapsed": 1782459,
     "status": "ok",
     "timestamp": 1618110351934,
     "user": {
      "displayName": "Ardian Kristanto",
      "photoUrl": "https://lh3.googleusercontent.com/a-/AOh14GgsGl08J10krrq2vOUZpSlbORrzxMx9gEZQoRgKAQE=s64",
      "userId": "01770967302925254403"
     },
     "user_tz": -480
    },
    "id": "TY9CN-IjOtJN"
   },
   "outputs": [],
   "source": [
    "n = 5\n",
    "sample_indices = random.sample(range(0, min(BATCH_SIZE, len(val_indices))), min(n, BATCH_SIZE, len(val_indices)))"
   ]
  },
  {
   "cell_type": "code",
   "execution_count": 34,
   "metadata": {
    "colab": {
     "base_uri": "https://localhost:8080/",
     "height": 1000
    },
    "executionInfo": {
     "elapsed": 1785655,
     "status": "ok",
     "timestamp": 1618110355133,
     "user": {
      "displayName": "Ardian Kristanto",
      "photoUrl": "https://lh3.googleusercontent.com/a-/AOh14GgsGl08J10krrq2vOUZpSlbORrzxMx9gEZQoRgKAQE=s64",
      "userId": "01770967302925254403"
     },
     "user_tz": -480
    },
    "id": "j6FkKwzOOtJN",
    "outputId": "418e6450-579c-4761-f0a5-7ac34bdf33ac"
   },
   "outputs": [
    {
     "data": {
      "image/png": "[encoded data removed]",
      "text/plain": [
       "<Figure size 216x216 with 1 Axes>"
      ]
     },
     "metadata": {
      "tags": []
     },
     "output_type": "display_data"
    },
    {
     "data": {
      "image/png": "[encoded data removed]",
      "text/plain": [
       "<Figure size 216x216 with 1 Axes>"
      ]
     },
     "metadata": {
      "tags": []
     },
     "output_type": "display_data"
    },
    {
     "data": {
      "image/png": "[encoded data removed]",
      "text/plain": [
       "<Figure size 216x216 with 1 Axes>"
      ]
     },
     "metadata": {
      "tags": []
     },
     "output_type": "display_data"
    },
    {
     "data": {
      "image/png": "[encoded data removed]",
      "text/plain": [
       "<Figure size 216x216 with 1 Axes>"
      ]
     },
     "metadata": {
      "tags": []
     },
     "output_type": "display_data"
    },
    {
     "data": {
      "image/png": "[encoded data removed]",
      "text/plain": [
       "<Figure size 216x216 with 1 Axes>"
      ]
     },
     "metadata": {
      "tags": []
     },
     "output_type": "display_data"
    }
   ],
   "source": [
    "for i in sample_indices:\n",
    "    show_classifications(images, classifications, i)"
   ]
  },
  {
   "cell_type": "code",
   "execution_count": 35,
   "metadata": {
    "colab": {
     "base_uri": "https://localhost:8080/",
     "height": 1000,
     "output_embedded_package_id": "15whKttjhhQzWCVnAUTMGCds8x2P5Jrzl"
    },
    "executionInfo": {
     "elapsed": 1794396,
     "status": "ok",
     "timestamp": 1618110363878,
     "user": {
      "displayName": "Ardian Kristanto",
      "photoUrl": "https://lh3.googleusercontent.com/a-/AOh14GgsGl08J10krrq2vOUZpSlbORrzxMx9gEZQoRgKAQE=s64",
      "userId": "01770967302925254403"
     },
     "user_tz": -480
    },
    "id": "ZK3p8hnEzqxt",
    "outputId": "351c71cb-4c5c-42de-cd48-d797b058f486"
   },
   "outputs": [
    {
     "data": {
      "text/plain": [
       "Output hidden; open in https://colab.research.google.com to view."
      ]
     },
     "metadata": {},
     "output_type": "display_data"
    }
   ],
   "source": [
    "for i in sample_indices:\n",
    "    show_prediction(images, predictions, i)"
   ]
  },
  {
   "cell_type": "code",
   "execution_count": 36,
   "metadata": {
    "colab": {
     "base_uri": "https://localhost:8080/",
     "height": 402
    },
    "executionInfo": {
     "elapsed": 1800226,
     "status": "ok",
     "timestamp": 1618110369712,
     "user": {
      "displayName": "Ardian Kristanto",
      "photoUrl": "https://lh3.googleusercontent.com/a-/AOh14GgsGl08J10krrq2vOUZpSlbORrzxMx9gEZQoRgKAQE=s64",
      "userId": "01770967302925254403"
     },
     "user_tz": -480
    },
    "id": "YmQtXzj4zqxu",
    "outputId": "47e35235-dcd6-4703-a8b3-88efea0ab985"
   },
   "outputs": [
    {
     "data": {
      "text/html": [
       "<div>\n",
       "<style scoped>\n",
       "    .dataframe tbody tr th:only-of-type {\n",
       "        vertical-align: middle;\n",
       "    }\n",
       "\n",
       "    .dataframe tbody tr th {\n",
       "        vertical-align: top;\n",
       "    }\n",
       "\n",
       "    .dataframe thead th {\n",
       "        text-align: right;\n",
       "    }\n",
       "</style>\n",
       "<table border=\"1\" class=\"dataframe\">\n",
       "  <thead>\n",
       "    <tr style=\"text-align: right;\">\n",
       "      <th></th>\n",
       "      <th>image</th>\n",
       "      <th>order</th>\n",
       "      <th>prediction_words</th>\n",
       "      <th>truth_words</th>\n",
       "      <th>label</th>\n",
       "      <th>truth_label</th>\n",
       "      <th>image_index</th>\n",
       "    </tr>\n",
       "  </thead>\n",
       "  <tbody>\n",
       "    <tr>\n",
       "      <th>0</th>\n",
       "      <td>0</td>\n",
       "      <td>0</td>\n",
       "      <td>monkey squirrel dog red_panda snake</td>\n",
       "      <td>person</td>\n",
       "      <td>11 18 29 20 24</td>\n",
       "      <td>30</td>\n",
       "      <td>259</td>\n",
       "    </tr>\n",
       "    <tr>\n",
       "      <th>1</th>\n",
       "      <td>0</td>\n",
       "      <td>1</td>\n",
       "      <td>sit_next_to sit_right sit_behind walk_right li...</td>\n",
       "      <td>taller</td>\n",
       "      <td>19 74 55 38 3</td>\n",
       "      <td>43</td>\n",
       "      <td>259</td>\n",
       "    </tr>\n",
       "    <tr>\n",
       "      <th>2</th>\n",
       "      <td>0</td>\n",
       "      <td>2</td>\n",
       "      <td>monkey person squirrel red_panda hamster</td>\n",
       "      <td>monkey</td>\n",
       "      <td>11 30 18 20 16</td>\n",
       "      <td>11</td>\n",
       "      <td>259</td>\n",
       "    </tr>\n",
       "    <tr>\n",
       "      <th>3</th>\n",
       "      <td>1</td>\n",
       "      <td>0</td>\n",
       "      <td>giant_panda lion red_panda bear bird</td>\n",
       "      <td>giant_panda</td>\n",
       "      <td>13 3 20 21 15</td>\n",
       "      <td>13</td>\n",
       "      <td>313</td>\n",
       "    </tr>\n",
       "    <tr>\n",
       "      <th>4</th>\n",
       "      <td>1</td>\n",
       "      <td>1</td>\n",
       "      <td>sit_right walk_right stand_front lie_front wal...</td>\n",
       "      <td>stand_right</td>\n",
       "      <td>74 38 42 64 39</td>\n",
       "      <td>63</td>\n",
       "      <td>313</td>\n",
       "    </tr>\n",
       "    <tr>\n",
       "      <th>5</th>\n",
       "      <td>1</td>\n",
       "      <td>2</td>\n",
       "      <td>giant_panda person red_panda bear turtle</td>\n",
       "      <td>giant_panda</td>\n",
       "      <td>13 30 20 21 0</td>\n",
       "      <td>13</td>\n",
       "      <td>313</td>\n",
       "    </tr>\n",
       "    <tr>\n",
       "      <th>6</th>\n",
       "      <td>2</td>\n",
       "      <td>0</td>\n",
       "      <td>bicycle turtle horse bear dog</td>\n",
       "      <td>bear</td>\n",
       "      <td>2 0 9 21 29</td>\n",
       "      <td>21</td>\n",
       "      <td>299</td>\n",
       "    </tr>\n",
       "    <tr>\n",
       "      <th>7</th>\n",
       "      <td>2</td>\n",
       "      <td>1</td>\n",
       "      <td>walk_front walk_right stand_behind stand_right...</td>\n",
       "      <td>stand_right</td>\n",
       "      <td>65 38 47 63 15</td>\n",
       "      <td>63</td>\n",
       "      <td>299</td>\n",
       "    </tr>\n",
       "    <tr>\n",
       "      <th>8</th>\n",
       "      <td>2</td>\n",
       "      <td>2</td>\n",
       "      <td>person turtle giant_panda bear snake</td>\n",
       "      <td>person</td>\n",
       "      <td>30 0 13 21 24</td>\n",
       "      <td>30</td>\n",
       "      <td>299</td>\n",
       "    </tr>\n",
       "    <tr>\n",
       "      <th>9</th>\n",
       "      <td>3</td>\n",
       "      <td>0</td>\n",
       "      <td>bear dog turtle snake lion</td>\n",
       "      <td>bear</td>\n",
       "      <td>21 29 0 24 3</td>\n",
       "      <td>21</td>\n",
       "      <td>125</td>\n",
       "    </tr>\n",
       "    <tr>\n",
       "      <th>10</th>\n",
       "      <td>3</td>\n",
       "      <td>1</td>\n",
       "      <td>stand_right left stand_behind stand_front cree...</td>\n",
       "      <td>stand_above</td>\n",
       "      <td>63 2 47 42 61</td>\n",
       "      <td>40</td>\n",
       "      <td>125</td>\n",
       "    </tr>\n",
       "    <tr>\n",
       "      <th>11</th>\n",
       "      <td>3</td>\n",
       "      <td>2</td>\n",
       "      <td>person bear turtle watercraft giant_panda</td>\n",
       "      <td>bear</td>\n",
       "      <td>30 21 0 10 13</td>\n",
       "      <td>21</td>\n",
       "      <td>125</td>\n",
       "    </tr>\n",
       "  </tbody>\n",
       "</table>\n",
       "</div>"
      ],
      "text/plain": [
       "    image  order  ... truth_label image_index\n",
       "0       0      0  ...          30         259\n",
       "1       0      1  ...          43         259\n",
       "2       0      2  ...          11         259\n",
       "3       1      0  ...          13         313\n",
       "4       1      1  ...          63         313\n",
       "5       1      2  ...          13         313\n",
       "6       2      0  ...          21         299\n",
       "7       2      1  ...          63         299\n",
       "8       2      2  ...          30         299\n",
       "9       3      0  ...          21         125\n",
       "10      3      1  ...          40         125\n",
       "11      3      2  ...          21         125\n",
       "\n",
       "[12 rows x 7 columns]"
      ]
     },
     "execution_count": 36,
     "metadata": {
      "tags": []
     },
     "output_type": "execute_result"
    }
   ],
   "source": [
    "# Process all entries in the validation set\n",
    "validation_results_df = get_all_predictions('valid')\n",
    "validation_results_df['image_index'] = validation_results_df.image.apply(lambda i: val_indices[i])\n",
    "validation_results_df.to_csv('validation.csv')\n",
    "validation_results_df.head(12)"
   ]
  },
  {
   "cell_type": "code",
   "execution_count": 37,
   "metadata": {
    "colab": {
     "base_uri": "https://localhost:8080/"
    },
    "executionInfo": {
     "elapsed": 1800221,
     "status": "ok",
     "timestamp": 1618110369713,
     "user": {
      "displayName": "Ardian Kristanto",
      "photoUrl": "https://lh3.googleusercontent.com/a-/AOh14GgsGl08J10krrq2vOUZpSlbORrzxMx9gEZQoRgKAQE=s64",
      "userId": "01770967302925254403"
     },
     "user_tz": -480
    },
    "id": "lXtSfQxkzqxu",
    "outputId": "53f29f33-82a6-4382-b065-76036df0a27a"
   },
   "outputs": [
    {
     "name": "stdout",
     "output_type": "stream",
     "text": [
      "Your validation MAP score is: 0.6683333333333333\n"
     ]
    }
   ],
   "source": [
    "print('Your validation MAP score is:', get_map(validation_results_df))"
   ]
  },
  {
   "cell_type": "markdown",
   "metadata": {
    "id": "qKLNdxYNNOEL"
   },
   "source": [
    "## Test"
   ]
  },
  {
   "cell_type": "code",
   "execution_count": 38,
   "metadata": {
    "colab": {
     "base_uri": "https://localhost:8080/",
     "height": 402
    },
    "executionInfo": {
     "elapsed": 1955738,
     "status": "ok",
     "timestamp": 1618110525235,
     "user": {
      "displayName": "Ardian Kristanto",
      "photoUrl": "https://lh3.googleusercontent.com/a-/AOh14GgsGl08J10krrq2vOUZpSlbORrzxMx9gEZQoRgKAQE=s64",
      "userId": "01770967302925254403"
     },
     "user_tz": -480
    },
    "id": "wx8OhJ2qzqxu",
    "outputId": "8971c80c-7b0b-4936-c9a5-9db334432ebc"
   },
   "outputs": [
    {
     "data": {
      "text/html": [
       "<div>\n",
       "<style scoped>\n",
       "    .dataframe tbody tr th:only-of-type {\n",
       "        vertical-align: middle;\n",
       "    }\n",
       "\n",
       "    .dataframe tbody tr th {\n",
       "        vertical-align: top;\n",
       "    }\n",
       "\n",
       "    .dataframe thead th {\n",
       "        text-align: right;\n",
       "    }\n",
       "</style>\n",
       "<table border=\"1\" class=\"dataframe\">\n",
       "  <thead>\n",
       "    <tr style=\"text-align: right;\">\n",
       "      <th></th>\n",
       "      <th>image</th>\n",
       "      <th>order</th>\n",
       "      <th>prediction_words</th>\n",
       "      <th>truth_words</th>\n",
       "      <th>label</th>\n",
       "      <th>truth_label</th>\n",
       "    </tr>\n",
       "  </thead>\n",
       "  <tbody>\n",
       "    <tr>\n",
       "      <th>0</th>\n",
       "      <td>0</td>\n",
       "      <td>0</td>\n",
       "      <td>dog fox turtle horse monkey</td>\n",
       "      <td>None</td>\n",
       "      <td>29 12 0 9 11</td>\n",
       "      <td></td>\n",
       "    </tr>\n",
       "    <tr>\n",
       "      <th>1</th>\n",
       "      <td>0</td>\n",
       "      <td>1</td>\n",
       "      <td>walk_front stand_behind bite run_front stand_left</td>\n",
       "      <td>None</td>\n",
       "      <td>65 47 28 8 75</td>\n",
       "      <td></td>\n",
       "    </tr>\n",
       "    <tr>\n",
       "      <th>2</th>\n",
       "      <td>0</td>\n",
       "      <td>2</td>\n",
       "      <td>frisbee dog car fox person</td>\n",
       "      <td>None</td>\n",
       "      <td>4 29 33 12 30</td>\n",
       "      <td></td>\n",
       "    </tr>\n",
       "    <tr>\n",
       "      <th>3</th>\n",
       "      <td>1</td>\n",
       "      <td>0</td>\n",
       "      <td>dog monkey turtle horse snake</td>\n",
       "      <td>None</td>\n",
       "      <td>29 11 0 9 24</td>\n",
       "      <td></td>\n",
       "    </tr>\n",
       "    <tr>\n",
       "      <th>4</th>\n",
       "      <td>1</td>\n",
       "      <td>1</td>\n",
       "      <td>walk_front run_front run_right stand_behind bite</td>\n",
       "      <td>None</td>\n",
       "      <td>65 8 70 47 28</td>\n",
       "      <td></td>\n",
       "    </tr>\n",
       "    <tr>\n",
       "      <th>5</th>\n",
       "      <td>1</td>\n",
       "      <td>2</td>\n",
       "      <td>dog frisbee person monkey turtle</td>\n",
       "      <td>None</td>\n",
       "      <td>29 4 30 11 0</td>\n",
       "      <td></td>\n",
       "    </tr>\n",
       "    <tr>\n",
       "      <th>6</th>\n",
       "      <td>2</td>\n",
       "      <td>0</td>\n",
       "      <td>bicycle motorcycle sheep train lizard</td>\n",
       "      <td>None</td>\n",
       "      <td>2 5 8 23 31</td>\n",
       "      <td></td>\n",
       "    </tr>\n",
       "    <tr>\n",
       "      <th>7</th>\n",
       "      <td>2</td>\n",
       "      <td>1</td>\n",
       "      <td>move_beneath stand_right walk_behind lie_right...</td>\n",
       "      <td>None</td>\n",
       "      <td>24 63 17 50 16</td>\n",
       "      <td></td>\n",
       "    </tr>\n",
       "    <tr>\n",
       "      <th>8</th>\n",
       "      <td>2</td>\n",
       "      <td>2</td>\n",
       "      <td>person sheep watercraft bird airplane</td>\n",
       "      <td>None</td>\n",
       "      <td>30 8 10 15 7</td>\n",
       "      <td></td>\n",
       "    </tr>\n",
       "    <tr>\n",
       "      <th>9</th>\n",
       "      <td>3</td>\n",
       "      <td>0</td>\n",
       "      <td>bicycle motorcycle dog person horse</td>\n",
       "      <td>None</td>\n",
       "      <td>2 5 29 30 9</td>\n",
       "      <td></td>\n",
       "    </tr>\n",
       "    <tr>\n",
       "      <th>10</th>\n",
       "      <td>3</td>\n",
       "      <td>1</td>\n",
       "      <td>move_beneath jump_beneath lie_right behind run...</td>\n",
       "      <td>None</td>\n",
       "      <td>24 46 50 67 66</td>\n",
       "      <td></td>\n",
       "    </tr>\n",
       "    <tr>\n",
       "      <th>11</th>\n",
       "      <td>3</td>\n",
       "      <td>2</td>\n",
       "      <td>person car rabbit ball bicycle</td>\n",
       "      <td>None</td>\n",
       "      <td>30 33 25 17 2</td>\n",
       "      <td></td>\n",
       "    </tr>\n",
       "  </tbody>\n",
       "</table>\n",
       "</div>"
      ],
      "text/plain": [
       "    image  order  ...           label truth_label\n",
       "0       0      0  ...    29 12 0 9 11            \n",
       "1       0      1  ...   65 47 28 8 75            \n",
       "2       0      2  ...   4 29 33 12 30            \n",
       "3       1      0  ...    29 11 0 9 24            \n",
       "4       1      1  ...   65 8 70 47 28            \n",
       "5       1      2  ...    29 4 30 11 0            \n",
       "6       2      0  ...     2 5 8 23 31            \n",
       "7       2      1  ...  24 63 17 50 16            \n",
       "8       2      2  ...    30 8 10 15 7            \n",
       "9       3      0  ...     2 5 29 30 9            \n",
       "10      3      1  ...  24 46 50 67 66            \n",
       "11      3      2  ...   30 33 25 17 2            \n",
       "\n",
       "[12 rows x 6 columns]"
      ]
     },
     "execution_count": 38,
     "metadata": {
      "tags": []
     },
     "output_type": "execute_result"
    }
   ],
   "source": [
    "# Process all entries in the test set\n",
    "test_results_df = get_all_predictions('test')\n",
    "test_results_df.head(12)"
   ]
  },
  {
   "cell_type": "code",
   "execution_count": 39,
   "metadata": {
    "executionInfo": {
     "elapsed": 1955735,
     "status": "ok",
     "timestamp": 1618110525236,
     "user": {
      "displayName": "Ardian Kristanto",
      "photoUrl": "https://lh3.googleusercontent.com/a-/AOh14GgsGl08J10krrq2vOUZpSlbORrzxMx9gEZQoRgKAQE=s64",
      "userId": "01770967302925254403"
     },
     "user_tz": -480
    },
    "id": "PqvTEApyzqxu"
   },
   "outputs": [],
   "source": [
    "# Write results as csv\n",
    "test_results_df.to_csv(f'valmap{get_map(validation_results_df)}_{OUTPUT_FILENAME}', index=True, header=True, index_label='Id', columns=['label'])"
   ]
  }
 ],
 "metadata": {
  "accelerator": "GPU",
  "colab": {
   "collapsed_sections": [],
   "name": "VideoCaptioningCS5242_2_kaggle0.735.ipynb",
   "provenance": []
  },
  "kernelspec": {
   "display_name": "Python 3",
   "language": "python",
   "name": "python3"
  },
  "language_info": {
   "codemirror_mode": {
    "name": "ipython",
    "version": 3
   },
   "file_extension": ".py",
   "mimetype": "text/x-python",
   "name": "python",
   "nbconvert_exporter": "python",
   "pygments_lexer": "ipython3",
   "version": "3.8.5"
  }
 },
 "nbformat": 4,
 "nbformat_minor": 4
}
